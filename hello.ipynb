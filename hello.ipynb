{
 "cells": [
  {
   "cell_type": "code",
   "execution_count": 1,
   "id": "0d408aa4-60b0-4a2a-bb17-5563520028f9",
   "metadata": {},
   "outputs": [
    {
     "name": "stdout",
     "output_type": "stream",
     "text": [
      "hello\n"
     ]
    }
   ],
   "source": [
    "print(\"hello\") "
   ]
  },
  {
   "cell_type": "code",
   "execution_count": 3,
   "id": "143010f4-efe0-4c77-81d4-365b8f57cb05",
   "metadata": {},
   "outputs": [
    {
     "name": "stdout",
     "output_type": "stream",
     "text": [
      "0\n",
      "2\n",
      "4\n",
      "6\n",
      "8\n"
     ]
    }
   ],
   "source": [
    "for i in range(10):\n",
    "    if i%2==0:\n",
    "        print(i)"
   ]
  },
  {
   "cell_type": "code",
   "execution_count": 19,
   "id": "f1bbcf9a-fe1d-4f54-8b6e-1ae754c57545",
   "metadata": {},
   "outputs": [
    {
     "name": "stdout",
     "output_type": "stream",
     "text": [
      "pakka\n"
     ]
    }
   ],
   "source": [
    "class vamsi:\n",
    "    def bon(self):\n",
    "        print('pakka')\n",
    "uju=vamsi()\n",
    "vamsi.bon(uju)\n"
   ]
  },
  {
   "cell_type": "code",
   "execution_count": 7,
   "id": "e0f1e301-db89-450a-819a-8cbcc981ad2f",
   "metadata": {},
   "outputs": [
    {
     "name": "stdout",
     "output_type": "stream",
     "text": [
      "sivvala\n"
     ]
    }
   ],
   "source": [
    "def vamsi():\n",
    "    print('sivvala')\n",
    "vamsi()"
   ]
  },
  {
   "cell_type": "code",
   "execution_count": 9,
   "id": "f0530acd-302f-41c9-bd38-612da49ddaa7",
   "metadata": {},
   "outputs": [
    {
     "name": "stdout",
     "output_type": "stream",
     "text": [
      "vamsi sivvala\n"
     ]
    }
   ],
   "source": [
    "print('vamsi sivvala')"
   ]
  },
  {
   "cell_type": "code",
   "execution_count": 5,
   "id": "cecd3b0f-e9bf-4a40-9d49-504b9ae8487e",
   "metadata": {},
   "outputs": [
    {
     "name": "stdout",
     "output_type": "stream",
     "text": [
      "vamsi sivvala\n"
     ]
    }
   ],
   "source": [
    "print('vamsi sivvala')\n"
   ]
  },
  {
   "cell_type": "code",
   "execution_count": null,
   "id": "4d2811da-0581-4928-bd30-db606fa6b461",
   "metadata": {},
   "outputs": [],
   "source": []
  }
 ],
 "metadata": {
  "kernelspec": {
   "display_name": "Python [conda env:base] *",
   "language": "python",
   "name": "conda-base-py"
  },
  "language_info": {
   "codemirror_mode": {
    "name": "ipython",
    "version": 3
   },
   "file_extension": ".py",
   "mimetype": "text/x-python",
   "name": "python",
   "nbconvert_exporter": "python",
   "pygments_lexer": "ipython3",
   "version": "3.12.7"
  }
 },
 "nbformat": 4,
 "nbformat_minor": 5
}
